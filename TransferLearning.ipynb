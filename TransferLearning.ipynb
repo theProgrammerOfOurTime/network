{
 "cells": [
  {
   "cell_type": "code",
   "execution_count": 14,
   "id": "f0e07194-6ad3-4621-a702-17c7d6a2749a",
   "metadata": {},
   "outputs": [],
   "source": [
    "import torch\n",
    "import torch.nn.functional as F\n",
    "import torchvision\n",
    "from torch.autograd import Variable\n",
    "import numpy as np\n",
    "from matplotlib import pyplot as plt\n",
    "import time\n",
    "import os    \n",
    "os.environ['KMP_DUPLICATE_LIB_OK'] = 'True'"
   ]
  },
  {
   "cell_type": "code",
   "execution_count": 15,
   "id": "62cdec64-0ef4-4c93-af49-4ca9a2bb329e",
   "metadata": {},
   "outputs": [
    {
     "name": "stdout",
     "output_type": "stream",
     "text": [
      "Files already downloaded and verified\n",
      "Files already downloaded and verified\n"
     ]
    }
   ],
   "source": [
    "trainds = torchvision.datasets.CIFAR10(\n",
    "    root = \"./data\",\n",
    "    train = True,\n",
    "    transform = torchvision.transforms.ToTensor(),  \n",
    "    download = True\n",
    ")\n",
    "\n",
    "testds = torchvision.datasets.CIFAR10(\n",
    "    root = \"./data\",\n",
    "    train = False,\n",
    "    transform = torchvision.transforms.ToTensor(), \n",
    "    download = True\n",
    ")\n",
    "\n",
    "batch_size = 100\n",
    "\n",
    "trainldr = torch.utils.data.DataLoader(\n",
    "    dataset = trainds,\n",
    "    batch_size = batch_size,\n",
    "    shuffle = True\n",
    ")\n",
    "\n",
    "testldr = torch.utils.data.DataLoader(\n",
    "    dataset = testds,\n",
    "    batch_size = batch_size\n",
    ")"
   ]
  },
  {
   "cell_type": "code",
   "execution_count": 16,
   "id": "ad3e8f4b-6ded-42e4-9eb9-78d6fd711139",
   "metadata": {},
   "outputs": [
    {
     "name": "stdout",
     "output_type": "stream",
     "text": [
      "cuda\n"
     ]
    }
   ],
   "source": [
    "device = torch.device(\"cuda\" if torch.cuda.is_available() else \"cpu\")\n",
    "print(device)"
   ]
  },
  {
   "cell_type": "code",
   "execution_count": 17,
   "id": "23431b0e-276c-4d57-a743-c6e82823f25a",
   "metadata": {},
   "outputs": [],
   "source": [
    "def traning(net, epochs, trainldr, device):\n",
    "    net = net.to(device)\n",
    "    criterion = torch.nn.CrossEntropyLoss().to(device)\n",
    "    optimizer = torch.optim.SGD(net.parameters(), lr = 0.01, momentum = 0.9)\n",
    "    for epoch in range(epochs):\n",
    "        start_time = time.time()\n",
    "        mean_loss = 0\n",
    "        for data, labels in trainldr:\n",
    "            data, labels = Variable(data).to(device), Variable(labels).to(device)\n",
    "            optimizer.zero_grad()\n",
    "            net_out = net(data)\n",
    "            loss = criterion(net_out, labels)\n",
    "            mean_loss += loss.data\n",
    "            loss.backward()\n",
    "            optimizer.step()\n",
    "        print(\"number epoch: {} \\t epoch execution time: {} \\t  mean_loss: {}\".format(\n",
    "            epoch + 1, time.time() - start_time, mean_loss / len(trainldr.dataset))\n",
    "        )\n",
    "    return net"
   ]
  },
  {
   "cell_type": "code",
   "execution_count": 18,
   "id": "436abe6a-8c6d-40bf-8762-e64d38e32dc0",
   "metadata": {},
   "outputs": [],
   "source": [
    "def testTop2(net, testldr, device):\n",
    "    test_loss = 0\n",
    "    correct = 0\n",
    "    criterion = torch.nn.CrossEntropyLoss().to(device)\n",
    "    for data, labels in testldr:\n",
    "        data, labels = Variable(data).to(device), Variable(labels).to(device)\n",
    "        net_out = net(data)\n",
    "        test_loss += criterion(net_out, labels).data\n",
    "        for ind, t in enumerate(net_out):\n",
    "            mxind1, mxind2 = 0, 1\n",
    "            for ind2, x in enumerate(t):\n",
    "                if t[ind2] > t[mxind1]:\n",
    "                    mxind2 = mxind1\n",
    "                    mxind1 = ind2\n",
    "                elif ind2 != mxind1 and t[ind2] > t[mxind2]:\n",
    "                    mxind2 = ind2\n",
    "            if labels[ind] == mxind1 or labels[ind] == mxind2:\n",
    "                correct += 1\n",
    "   \n",
    "\n",
    "    test_loss /= len(testldr.dataset)\n",
    "    print('mean_loss: {:.4f}, Accuracy: {}/{} ({:.0f}%)'.format(\n",
    "           test_loss, correct, len(testldr.dataset),\n",
    "           100. * correct / len(testldr.dataset))\n",
    "    )\n",
    "    return 100. * correct / len(testldr.dataset)"
   ]
  },
  {
   "cell_type": "code",
   "execution_count": 19,
   "id": "f55e1350-06ae-4cf7-97f8-255df7472d3a",
   "metadata": {},
   "outputs": [],
   "source": [
    "def Unfrozen(net, trname):\n",
    "    for name, child in net.named_children(): \n",
    "        if name == trname: \n",
    "            print(name + ' has been unfrozen.') \n",
    "            for param in child.parameters(): \n",
    "                param.requires_grad = True \n",
    "        else: \n",
    "            for param in child.parameters(): \n",
    "                param.requires_grad = False\n",
    "    return net"
   ]
  },
  {
   "cell_type": "code",
   "execution_count": 20,
   "id": "012f56b1-0976-407a-8b76-96dfd7dcebc6",
   "metadata": {},
   "outputs": [],
   "source": [
    "epochs = 10\n",
    "resTop2Test = [0 for i in range(8)]"
   ]
  },
  {
   "cell_type": "markdown",
   "id": "104546bf-cd4c-454b-85c7-4efb6b8411e3",
   "metadata": {},
   "source": [
    "Resnet18"
   ]
  },
  {
   "cell_type": "code",
   "execution_count": 21,
   "id": "38924249-4b74-4fdc-948f-3357eda4237f",
   "metadata": {},
   "outputs": [],
   "source": [
    "resnet18V0 = torchvision.models.resnet18(weights = torchvision.models.ResNet18_Weights.IMAGENET1K_V1)\n",
    "resnet18V0.fc = torch.nn.Linear(resnet18V0.fc.in_features, 10)"
   ]
  },
  {
   "cell_type": "code",
   "execution_count": 22,
   "id": "c3afdba5-2956-42f2-bdbc-f97feb2b6177",
   "metadata": {},
   "outputs": [
    {
     "name": "stdout",
     "output_type": "stream",
     "text": [
      "number epoch: 1 \t epoch execution time: 7.717528581619263 \t  mean_loss: 0.009444136172533035\n",
      "number epoch: 2 \t epoch execution time: 7.48441481590271 \t  mean_loss: 0.005742719396948814\n",
      "number epoch: 3 \t epoch execution time: 7.146122217178345 \t  mean_loss: 0.004370419308543205\n",
      "number epoch: 4 \t epoch execution time: 6.86512017250061 \t  mean_loss: 0.003383598756045103\n",
      "number epoch: 5 \t epoch execution time: 6.653802871704102 \t  mean_loss: 0.002743771066889167\n",
      "number epoch: 6 \t epoch execution time: 6.807427167892456 \t  mean_loss: 0.0021959554869681597\n",
      "number epoch: 7 \t epoch execution time: 6.7292561531066895 \t  mean_loss: 0.0016933392034843564\n",
      "number epoch: 8 \t epoch execution time: 6.786808729171753 \t  mean_loss: 0.0015206257812678814\n",
      "number epoch: 9 \t epoch execution time: 6.840310335159302 \t  mean_loss: 0.0013046088861301541\n",
      "number epoch: 10 \t epoch execution time: 6.955904722213745 \t  mean_loss: 0.0010428896639496088\n"
     ]
    }
   ],
   "source": [
    "resnet18V0 = traning(resnet18V0, epochs, trainldr, device)"
   ]
  },
  {
   "cell_type": "code",
   "execution_count": 23,
   "id": "d8edea03-e2d2-4ac7-8b07-8ab643b7a68c",
   "metadata": {},
   "outputs": [
    {
     "name": "stdout",
     "output_type": "stream",
     "text": [
      "mean_loss: 0.0081, Accuracy: 9166/10000 (92%)\n"
     ]
    }
   ],
   "source": [
    "resTop2Test[0] = testTop2(resnet18V0, testldr, device)"
   ]
  },
  {
   "cell_type": "code",
   "execution_count": 24,
   "id": "59967a0e-6c7e-4a73-b949-76a653a34be7",
   "metadata": {},
   "outputs": [],
   "source": [
    "resnet18V1 = torchvision.models.resnet18(weights = torchvision.models.ResNet18_Weights.IMAGENET1K_V1)\n",
    "resnet18V1.fc = torch.nn.Sequential(\n",
    "            torch.nn.Linear(resnet18V1.fc.in_features, 1024),\n",
    "            torch.nn.ReLU(),\n",
    "            torch.nn.Linear(1024, 10)\n",
    "        )"
   ]
  },
  {
   "cell_type": "code",
   "execution_count": 25,
   "id": "1a100b60-5951-43e7-86e2-257b9195d7d9",
   "metadata": {},
   "outputs": [
    {
     "name": "stdout",
     "output_type": "stream",
     "text": [
      "fc has been unfrozen.\n"
     ]
    }
   ],
   "source": [
    "resnet18V1 = Unfrozen(resnet18V1, 'fc')"
   ]
  },
  {
   "cell_type": "code",
   "execution_count": 26,
   "id": "5963ca37-f8cc-4a6c-ab37-c82dafdd1b00",
   "metadata": {},
   "outputs": [
    {
     "name": "stdout",
     "output_type": "stream",
     "text": [
      "number epoch: 1 \t epoch execution time: 4.990131378173828 \t  mean_loss: 0.01698755845427513\n",
      "number epoch: 2 \t epoch execution time: 5.253417730331421 \t  mean_loss: 0.015274233184754848\n",
      "number epoch: 3 \t epoch execution time: 4.914667367935181 \t  mean_loss: 0.014543610624969006\n",
      "number epoch: 4 \t epoch execution time: 4.995066165924072 \t  mean_loss: 0.014020898379385471\n",
      "number epoch: 5 \t epoch execution time: 4.989510536193848 \t  mean_loss: 0.013574415817856789\n",
      "number epoch: 6 \t epoch execution time: 4.969944477081299 \t  mean_loss: 0.013142168521881104\n",
      "number epoch: 7 \t epoch execution time: 4.973250389099121 \t  mean_loss: 0.01272025890648365\n",
      "number epoch: 8 \t epoch execution time: 5.099798679351807 \t  mean_loss: 0.01242751907557249\n",
      "number epoch: 9 \t epoch execution time: 5.051457405090332 \t  mean_loss: 0.01205514743924141\n",
      "number epoch: 10 \t epoch execution time: 5.092705249786377 \t  mean_loss: 0.011714945547282696\n"
     ]
    }
   ],
   "source": [
    "resnet18V1 = traning(resnet18V1, epochs, trainldr, device)"
   ]
  },
  {
   "cell_type": "code",
   "execution_count": 27,
   "id": "1e78757c-8efb-4060-8e26-d44ca3b5a438",
   "metadata": {},
   "outputs": [
    {
     "name": "stdout",
     "output_type": "stream",
     "text": [
      "mean_loss: 0.0155, Accuracy: 6785/10000 (68%)\n"
     ]
    }
   ],
   "source": [
    "resTop2Test[1] = testTop2(resnet18V1, testldr, device)"
   ]
  },
  {
   "cell_type": "code",
   "execution_count": 28,
   "id": "7330a52f-26c4-4315-b4ce-8d6560bb2fbd",
   "metadata": {},
   "outputs": [],
   "source": [
    "resnet34V0 = torchvision.models.resnet34(weights = torchvision.models.ResNet34_Weights.IMAGENET1K_V1)\n",
    "resnet34V0.fc = torch.nn.Linear(resnet34V0.fc.in_features, 10)"
   ]
  },
  {
   "cell_type": "code",
   "execution_count": 29,
   "id": "0264591b-b270-450b-81d4-50c38f9e20b2",
   "metadata": {},
   "outputs": [
    {
     "name": "stdout",
     "output_type": "stream",
     "text": [
      "number epoch: 1 \t epoch execution time: 10.838711261749268 \t  mean_loss: 0.009187482297420502\n",
      "number epoch: 2 \t epoch execution time: 10.516629219055176 \t  mean_loss: 0.005781217478215694\n",
      "number epoch: 3 \t epoch execution time: 10.823193788528442 \t  mean_loss: 0.004197597969323397\n",
      "number epoch: 4 \t epoch execution time: 10.546656370162964 \t  mean_loss: 0.003092469647526741\n",
      "number epoch: 5 \t epoch execution time: 10.581864356994629 \t  mean_loss: 0.00275880703702569\n",
      "number epoch: 6 \t epoch execution time: 10.601875066757202 \t  mean_loss: 0.002100504469126463\n",
      "number epoch: 7 \t epoch execution time: 10.629119634628296 \t  mean_loss: 0.0017998499097302556\n",
      "number epoch: 8 \t epoch execution time: 10.850261926651001 \t  mean_loss: 0.0021510745864361525\n",
      "number epoch: 9 \t epoch execution time: 10.625779151916504 \t  mean_loss: 0.0011193546233698726\n",
      "number epoch: 10 \t epoch execution time: 10.401966571807861 \t  mean_loss: 0.0008096503443084657\n"
     ]
    }
   ],
   "source": [
    "resnet34V0 = traning(resnet34V0, epochs, trainldr, device)"
   ]
  },
  {
   "cell_type": "code",
   "execution_count": 30,
   "id": "03535550-bbc1-44a2-b531-f7a43c1b2a69",
   "metadata": {},
   "outputs": [
    {
     "name": "stdout",
     "output_type": "stream",
     "text": [
      "mean_loss: 0.0076, Accuracy: 9249/10000 (92%)\n"
     ]
    }
   ],
   "source": [
    "resTop2Test[2] = testTop2(resnet34V0, testldr, device)"
   ]
  },
  {
   "cell_type": "code",
   "execution_count": 31,
   "id": "6bdc8490-750b-4fa3-bb63-9d88f3ceec81",
   "metadata": {},
   "outputs": [],
   "source": [
    "resnet34V1 = torchvision.models.resnet34(weights = torchvision.models.ResNet34_Weights.IMAGENET1K_V1)\n",
    "resnet34V1.fc = torch.nn.Sequential(\n",
    "            torch.nn.Linear(resnet34V1.fc.in_features, 1024),\n",
    "            torch.nn.ReLU(),\n",
    "            torch.nn.Linear(1024, 10)\n",
    "        )"
   ]
  },
  {
   "cell_type": "code",
   "execution_count": 32,
   "id": "6678ce3b-2b84-4c33-8bbb-e4a0f746fd07",
   "metadata": {},
   "outputs": [
    {
     "name": "stdout",
     "output_type": "stream",
     "text": [
      "fc has been unfrozen.\n"
     ]
    }
   ],
   "source": [
    "resnet34V1 = Unfrozen(resnet34V1, 'fc')"
   ]
  },
  {
   "cell_type": "code",
   "execution_count": 33,
   "id": "0c63899c-73c4-4cf7-bfc1-9b09cbb5abb8",
   "metadata": {},
   "outputs": [
    {
     "name": "stdout",
     "output_type": "stream",
     "text": [
      "number epoch: 1 \t epoch execution time: 6.191838979721069 \t  mean_loss: 0.016569610685110092\n",
      "number epoch: 2 \t epoch execution time: 6.195998191833496 \t  mean_loss: 0.014698480255901814\n",
      "number epoch: 3 \t epoch execution time: 6.056908130645752 \t  mean_loss: 0.013974986039102077\n",
      "number epoch: 4 \t epoch execution time: 6.313567876815796 \t  mean_loss: 0.013474192470312119\n",
      "number epoch: 5 \t epoch execution time: 6.124335527420044 \t  mean_loss: 0.013007585890591145\n",
      "number epoch: 6 \t epoch execution time: 6.040436744689941 \t  mean_loss: 0.0125801470130682\n",
      "number epoch: 7 \t epoch execution time: 6.197695732116699 \t  mean_loss: 0.012235485948622227\n",
      "number epoch: 8 \t epoch execution time: 6.183095932006836 \t  mean_loss: 0.011824418790638447\n",
      "number epoch: 9 \t epoch execution time: 6.284951448440552 \t  mean_loss: 0.011507978662848473\n",
      "number epoch: 10 \t epoch execution time: 6.264028072357178 \t  mean_loss: 0.01123116072267294\n"
     ]
    }
   ],
   "source": [
    "resnet34V1 = traning(resnet34V1, epochs, trainldr, device)"
   ]
  },
  {
   "cell_type": "code",
   "execution_count": 34,
   "id": "ac41ab37-dc23-4222-8c7c-ca0c7b9e0bba",
   "metadata": {},
   "outputs": [
    {
     "name": "stdout",
     "output_type": "stream",
     "text": [
      "mean_loss: 0.0147, Accuracy: 7040/10000 (70%)\n"
     ]
    }
   ],
   "source": [
    "resTop2Test[3] = testTop2(resnet34V1, testldr, device)"
   ]
  },
  {
   "cell_type": "code",
   "execution_count": 35,
   "id": "ffaa9854-c9f3-4be2-aed3-9e4cea462b7e",
   "metadata": {},
   "outputs": [],
   "source": [
    "googlenetV0 = torchvision.models.googlenet(weights = torchvision.models.GoogLeNet_Weights.IMAGENET1K_V1)\n",
    "googlenetV0.fc = torch.nn.Linear(googlenetV0.fc.in_features, 10)"
   ]
  },
  {
   "cell_type": "code",
   "execution_count": 36,
   "id": "f0193f60-9ac3-4b04-9488-bd656a63d3f4",
   "metadata": {},
   "outputs": [
    {
     "name": "stdout",
     "output_type": "stream",
     "text": [
      "number epoch: 1 \t epoch execution time: 12.729960441589355 \t  mean_loss: 0.010498731397092342\n",
      "number epoch: 2 \t epoch execution time: 13.705140113830566 \t  mean_loss: 0.006166711915284395\n",
      "number epoch: 3 \t epoch execution time: 13.6448655128479 \t  mean_loss: 0.004536909982562065\n",
      "number epoch: 4 \t epoch execution time: 13.74677038192749 \t  mean_loss: 0.0035268375650048256\n",
      "number epoch: 5 \t epoch execution time: 13.59719705581665 \t  mean_loss: 0.0028151150327175856\n",
      "number epoch: 6 \t epoch execution time: 13.78615427017212 \t  mean_loss: 0.0022055029403418303\n",
      "number epoch: 7 \t epoch execution time: 13.468594312667847 \t  mean_loss: 0.0018828930333256721\n",
      "number epoch: 8 \t epoch execution time: 13.513436079025269 \t  mean_loss: 0.0016340597067028284\n",
      "number epoch: 9 \t epoch execution time: 13.641064167022705 \t  mean_loss: 0.0013414500281214714\n",
      "number epoch: 10 \t epoch execution time: 13.856952428817749 \t  mean_loss: 0.0011315232841297984\n"
     ]
    }
   ],
   "source": [
    "googlenetV0 = traning(googlenetV0, epochs, trainldr, device)"
   ]
  },
  {
   "cell_type": "code",
   "execution_count": 37,
   "id": "9215a12a-48fe-4de4-8c72-6e432e33e5a0",
   "metadata": {},
   "outputs": [
    {
     "name": "stdout",
     "output_type": "stream",
     "text": [
      "mean_loss: 0.0079, Accuracy: 9157/10000 (92%)\n"
     ]
    }
   ],
   "source": [
    "resTop2Test[4] = testTop2(googlenetV0, testldr, device)"
   ]
  },
  {
   "cell_type": "code",
   "execution_count": 38,
   "id": "e5e0f89a-704f-4e80-b970-841f8fb063a0",
   "metadata": {},
   "outputs": [],
   "source": [
    "googlenetV1 = torchvision.models.googlenet(weights = torchvision.models.GoogLeNet_Weights.IMAGENET1K_V1)\n",
    "googlenetV1.fc = torch.nn.Sequential(\n",
    "            torch.nn.Linear(googlenetV1.fc.in_features, 1024),\n",
    "            torch.nn.ReLU(),\n",
    "            torch.nn.Linear(1024, 10)\n",
    "        )"
   ]
  },
  {
   "cell_type": "code",
   "execution_count": 39,
   "id": "9a86a456-a909-412a-aff9-57e078d7046e",
   "metadata": {},
   "outputs": [
    {
     "name": "stdout",
     "output_type": "stream",
     "text": [
      "fc has been unfrozen.\n"
     ]
    }
   ],
   "source": [
    "googlenetV1 = Unfrozen(googlenetV1, 'fc')"
   ]
  },
  {
   "cell_type": "code",
   "execution_count": 40,
   "id": "2e796ffb-55ed-4c3f-b554-2f7beb7a1d67",
   "metadata": {},
   "outputs": [
    {
     "name": "stdout",
     "output_type": "stream",
     "text": [
      "number epoch: 1 \t epoch execution time: 7.510129451751709 \t  mean_loss: 0.01916726864874363\n",
      "number epoch: 2 \t epoch execution time: 7.6432530879974365 \t  mean_loss: 0.017756998538970947\n",
      "number epoch: 3 \t epoch execution time: 7.602164030075073 \t  mean_loss: 0.01721957139670849\n",
      "number epoch: 4 \t epoch execution time: 7.6243674755096436 \t  mean_loss: 0.016965048387646675\n",
      "number epoch: 5 \t epoch execution time: 7.549915790557861 \t  mean_loss: 0.016614265739917755\n",
      "number epoch: 6 \t epoch execution time: 7.614934921264648 \t  mean_loss: 0.016294581815600395\n",
      "number epoch: 7 \t epoch execution time: 7.7715559005737305 \t  mean_loss: 0.015992211177945137\n",
      "number epoch: 8 \t epoch execution time: 7.815850257873535 \t  mean_loss: 0.015762537717819214\n",
      "number epoch: 9 \t epoch execution time: 8.081460237503052 \t  mean_loss: 0.015524562448263168\n",
      "number epoch: 10 \t epoch execution time: 7.71703577041626 \t  mean_loss: 0.015309122391045094\n"
     ]
    }
   ],
   "source": [
    "googlenetV1 = traning(googlenetV1, epochs, trainldr, device)"
   ]
  },
  {
   "cell_type": "code",
   "execution_count": 41,
   "id": "feea4fec-cf20-4a78-9865-4c3519ae46a8",
   "metadata": {},
   "outputs": [
    {
     "name": "stdout",
     "output_type": "stream",
     "text": [
      "mean_loss: 0.0168, Accuracy: 6147/10000 (61%)\n"
     ]
    }
   ],
   "source": [
    "resTop2Test[5] = testTop2(googlenetV1, testldr, device)"
   ]
  },
  {
   "cell_type": "code",
   "execution_count": 42,
   "id": "5d75e652-6ced-4dd0-b110-a5ab39fecefb",
   "metadata": {},
   "outputs": [],
   "source": [
    "efficientnetV0 = torchvision.models.efficientnet_b0(weights = torchvision.models.EfficientNet_B0_Weights.IMAGENET1K_V1)\n",
    "efficientnetV0.classifier = torch.nn.Linear(efficientnetV0.classifier[1].in_features, 10)"
   ]
  },
  {
   "cell_type": "code",
   "execution_count": 43,
   "id": "b02f9282-086d-4945-911e-b00177c38ae8",
   "metadata": {},
   "outputs": [
    {
     "name": "stdout",
     "output_type": "stream",
     "text": [
      "number epoch: 1 \t epoch execution time: 15.539024114608765 \t  mean_loss: 0.012324702925980091\n",
      "number epoch: 2 \t epoch execution time: 16.756897687911987 \t  mean_loss: 0.007309239357709885\n",
      "number epoch: 3 \t epoch execution time: 16.813056230545044 \t  mean_loss: 0.005627280566841364\n",
      "number epoch: 4 \t epoch execution time: 16.64517331123352 \t  mean_loss: 0.004679746925830841\n",
      "number epoch: 5 \t epoch execution time: 16.198479652404785 \t  mean_loss: 0.003878240240737796\n",
      "number epoch: 6 \t epoch execution time: 16.127328634262085 \t  mean_loss: 0.0034237683285027742\n",
      "number epoch: 7 \t epoch execution time: 16.187634468078613 \t  mean_loss: 0.0029529561288654804\n",
      "number epoch: 8 \t epoch execution time: 16.289073944091797 \t  mean_loss: 0.0024715266190469265\n",
      "number epoch: 9 \t epoch execution time: 15.656124830245972 \t  mean_loss: 0.002120843855664134\n",
      "number epoch: 10 \t epoch execution time: 15.236448049545288 \t  mean_loss: 0.0018394591752439737\n"
     ]
    }
   ],
   "source": [
    "efficientnetV0 = traning(efficientnetV0, epochs, trainldr, device)"
   ]
  },
  {
   "cell_type": "code",
   "execution_count": 44,
   "id": "a16a4fbc-9a00-47dd-a76e-c2ee5ec036f5",
   "metadata": {},
   "outputs": [
    {
     "name": "stdout",
     "output_type": "stream",
     "text": [
      "mean_loss: 0.0072, Accuracy: 9206/10000 (92%)\n"
     ]
    }
   ],
   "source": [
    "resTop2Test[6] = testTop2(efficientnetV0, testldr, device)"
   ]
  },
  {
   "cell_type": "code",
   "execution_count": 45,
   "id": "5f7f7ed6-acf8-4f00-a6bf-c5afde289b94",
   "metadata": {},
   "outputs": [],
   "source": [
    "efficientnetV1 = torchvision.models.efficientnet_b0(weights = torchvision.models.EfficientNet_B0_Weights.IMAGENET1K_V1)\n",
    "efficientnetV1.classifier = torch.nn.Sequential(\n",
    "            torch.nn.Linear(efficientnetV1.classifier[1].in_features, 1024),\n",
    "            torch.nn.ReLU(),\n",
    "            torch.nn.Linear(1024, 10)\n",
    "        )"
   ]
  },
  {
   "cell_type": "code",
   "execution_count": 47,
   "id": "ea853f4d-7ba2-48f0-a294-46e40324263f",
   "metadata": {},
   "outputs": [
    {
     "name": "stdout",
     "output_type": "stream",
     "text": [
      "classifier has been unfrozen.\n"
     ]
    }
   ],
   "source": [
    "efficientnetV1 = Unfrozen(efficientnetV1, \"classifier\")"
   ]
  },
  {
   "cell_type": "code",
   "execution_count": 48,
   "id": "d1876b25-3718-43c0-ae8e-54adfb4e1590",
   "metadata": {},
   "outputs": [
    {
     "name": "stdout",
     "output_type": "stream",
     "text": [
      "number epoch: 1 \t epoch execution time: 8.663302421569824 \t  mean_loss: 0.018660619854927063\n",
      "number epoch: 2 \t epoch execution time: 8.621364116668701 \t  mean_loss: 0.01722782664000988\n",
      "number epoch: 3 \t epoch execution time: 8.685887813568115 \t  mean_loss: 0.01677127368748188\n",
      "number epoch: 4 \t epoch execution time: 9.159708499908447 \t  mean_loss: 0.01646539568901062\n",
      "number epoch: 5 \t epoch execution time: 8.741346836090088 \t  mean_loss: 0.01627669483423233\n",
      "number epoch: 6 \t epoch execution time: 8.471802473068237 \t  mean_loss: 0.01603613793849945\n",
      "number epoch: 7 \t epoch execution time: 8.434185028076172 \t  mean_loss: 0.015822408720850945\n",
      "number epoch: 8 \t epoch execution time: 8.554066181182861 \t  mean_loss: 0.0156021136790514\n",
      "number epoch: 9 \t epoch execution time: 8.984367847442627 \t  mean_loss: 0.015415566973388195\n",
      "number epoch: 10 \t epoch execution time: 9.536129713058472 \t  mean_loss: 0.015305319800972939\n"
     ]
    }
   ],
   "source": [
    "efficientnetV1 = traning(efficientnetV1, epochs, trainldr, device)"
   ]
  },
  {
   "cell_type": "code",
   "execution_count": 49,
   "id": "2af2b9dc-effa-413f-be2e-b9ab4f27d267",
   "metadata": {},
   "outputs": [
    {
     "name": "stdout",
     "output_type": "stream",
     "text": [
      "mean_loss: 0.0167, Accuracy: 6139/10000 (61%)\n"
     ]
    }
   ],
   "source": [
    "resTop2Test[7] = testTop2(efficientnetV1, testldr, device)"
   ]
  },
  {
   "cell_type": "code",
   "execution_count": 50,
   "id": "2695f8b7-55b3-486c-b25f-7577b1d22102",
   "metadata": {},
   "outputs": [
    {
     "data": {
      "image/png": "[encoded data removed]",
      "text/plain": [
       "<Figure size 640x480 with 1 Axes>"
      ]
     },
     "metadata": {},
     "output_type": "display_data"
    }
   ],
   "source": [
    "model_names = ['ResNet18', 'ResNet18-modified',\n",
    "               'ResNet34', 'ResNet34-modified',\n",
    "               'GoogleNet', 'GoogleNet-modified',\n",
    "               'EfficientNet_B0', 'EfficientNet_B0-modified']\n",
    "plt.bar(model_names, resTop2Test, color = 'green')\n",
    "plt.xlabel('Models')\n",
    "plt.ylabel('Top2')\n",
    "plt.xticks(rotation = 90)\n",
    "plt.grid(axis='y')\n",
    "plt.show()\n",
    "     "
   ]
  },
  {
   "cell_type": "code",
   "execution_count": null,
   "id": "d996e1dc-044f-49a7-bcaa-19122d60a100",
   "metadata": {},
   "outputs": [],
   "source": []
  }
 ],
 "metadata": {
  "kernelspec": {
   "display_name": "Python 3 (ipykernel)",
   "language": "python",
   "name": "python3"
  },
  "language_info": {
   "codemirror_mode": {
    "name": "ipython",
    "version": 3
   },
   "file_extension": ".py",
   "mimetype": "text/x-python",
   "name": "python",
   "nbconvert_exporter": "python",
   "pygments_lexer": "ipython3",
   "version": "3.12.7"
  }
 },
 "nbformat": 4,
 "nbformat_minor": 5
}

{
 "cells": [
  {
   "cell_type": "code",
   "execution_count": 2,
   "id": "42f99c22-0c3b-4ad0-a8df-407b3f3959df",
   "metadata": {},
   "outputs": [],
   "source": [
    "import torch\n",
    "import torch.nn.functional as F\n",
    "import torchvision\n",
    "from torch.autograd import Variable\n",
    "import numpy as np\n",
    "from matplotlib import pyplot as plt\n",
    "import time\n",
    "import cv2 as cv"
   ]
  },
  {
   "cell_type": "code",
   "execution_count": 3,
   "id": "eaa9004d-9349-4392-bc65-cadd49530039",
   "metadata": {},
   "outputs": [
    {
     "name": "stdout",
     "output_type": "stream",
     "text": [
      "Files already downloaded and verified\n",
      "Files already downloaded and verified\n"
     ]
    }
   ],
   "source": [
    "trainds = torchvision.datasets.CIFAR10(\n",
    "    root = \"./data\",\n",
    "    train = True,\n",
    "    transform = torchvision.transforms.ToTensor(),  \n",
    "    download = True\n",
    ")\n",
    "\n",
    "testds = torchvision.datasets.CIFAR10(\n",
    "    root = \"./data\",\n",
    "    train = False,\n",
    "    transform = torchvision.transforms.ToTensor(), \n",
    "    download = True\n",
    ")\n",
    "\n",
    "batch_size = 100\n",
    "\n",
    "trainldr = torch.utils.data.DataLoader(\n",
    "    dataset = trainds,\n",
    "    batch_size = batch_size,\n",
    "    shuffle = True\n",
    ")\n",
    "\n",
    "testldr = torch.utils.data.DataLoader(\n",
    "    dataset = testds,\n",
    "    batch_size = batch_size\n",
    ")"
   ]
  },
  {
   "cell_type": "code",
   "execution_count": 4,
   "id": "9bd3ab55-0135-4576-84d8-c39e4e5eb913",
   "metadata": {},
   "outputs": [],
   "source": [
    "img_hwc = np.array(trainds[0][0] * 255).astype(np.uint8).transpose((1, 2, 0))\n",
    "img_hwc = cv.resize(img_hwc, (100, 100), interpolation = cv.INTER_LINEAR)\n",
    "\n",
    "#plt.imshow(img_hwc)"
   ]
  },
  {
   "cell_type": "code",
   "execution_count": 5,
   "id": "3396ea06-6bca-4cc7-a48b-8c6699041a9a",
   "metadata": {},
   "outputs": [],
   "source": [
    "'''class cnn(torch.nn.Module):\n",
    "    def __init__(self):\n",
    "        super().__init__()\n",
    "        \n",
    "        self.mxpul = torch.nn.MaxPool2d((2, 2), stride = 2)\n",
    "\n",
    "        self.convlay0 = torch.nn.Conv2d(3, 64, 3, stride = 1, padding = 'same')\n",
    "        self.convlay1 = torch.nn.Conv2d(64, 64, 3, stride = 1, padding = 'same')\n",
    "        self.convlay2 = torch.nn.Conv2d(64, 128, 3, stride = 1, padding = 'same')\n",
    "        self.convlay3 = torch.nn.Conv2d(128, 128, 3, stride = 1, padding = 'same')\n",
    "        self.convlay4 = torch.nn.Conv2d(128, 256, 3, stride = 1, padding = 'same')\n",
    "        self.convlay5 = torch.nn.Conv2d(256, 256, 3, stride = 1, padding = 'same')\n",
    "        self.convlay6 = torch.nn.Conv2d(256, 512, 3, stride = 1, padding = 'same')\n",
    "        self.convlay7 = torch.nn.Conv2d(512, 512, 3, stride = 1, padding = 'same')\n",
    "        self.convlay8 = torch.nn.Conv2d(512, 512, 3, stride = 1, padding = 'same')\n",
    "\n",
    "        self.linlay0 = torch.nn.Linear(512 * 4, 1024)\n",
    "        self.linlay1 = torch.nn.Linear(1024, 1024)\n",
    "        self.linlay2 = torch.nn.Linear(1024, 10)\n",
    "    \n",
    "    def forward(self, x):\n",
    "\n",
    "        out = F.relu(self.convlay0(x))\n",
    "        out = self.mxpul(F.relu(self.convlay1(out)))\n",
    "        out = F.relu(self.convlay2(out))\n",
    "        out = self.mxpul(F.relu(self.convlay3(out)))\n",
    "        out = F.relu(self.convlay4(out))\n",
    "        out = self.mxpul(F.relu(self.convlay5(out)))\n",
    "        out = F.relu(self.convlay6(out))\n",
    "        out = F.relu(self.convlay7(out))\n",
    "        out = self.mxpul(F.relu(self.convlay8(out)))\n",
    "        \n",
    "        out = out.view(-1, 512 * 2 * 2)\n",
    "        out = F.relu(self.linlay0(out))\n",
    "        out = F.relu(self.linlay1(out))\n",
    "        out = self.linlay2(out)\n",
    "        \n",
    "        return F.softmax(out, dim=1)'''\n",
    "class cnn(torch.nn.Module):\n",
    "    def __init__(self):\n",
    "        super().__init__()\n",
    "        \n",
    "        self.mxpul = torch.nn.MaxPool2d((3, 3), stride = 3)\n",
    "\n",
    "        self.convlay0 = torch.nn.Conv2d(3, 32, 3, stride = 1)\n",
    "        self.convlay1 = torch.nn.Conv2d(32, 32, 3, stride = 1)\n",
    "        self.convlay2 = torch.nn.Conv2d(32, 64, 3, stride = 1)\n",
    "\n",
    "        self.linlay0 = torch.nn.Linear(64 * 8 * 8, 1000)\n",
    "        self.linlay1 = torch.nn.Linear(1000, 100)\n",
    "        self.linlay2 = torch.nn.Linear(100, 10)\n",
    "    \n",
    "    def forward(self, x):\n",
    "\n",
    "        out = F.relu(self.convlay0(x))\n",
    "        out = F.relu(self.convlay1(out))\n",
    "        out = self.mxpul(F.relu(self.convlay2(out)))\n",
    "        out = out.view(-1, 64 * 8 * 8)\n",
    "        out = F.relu(self.linlay0(out))\n",
    "        out = F.relu(self.linlay1(out))\n",
    "        out = self.linlay2(out)\n",
    "        \n",
    "        return F.softmax(out, dim=1)"
   ]
  },
  {
   "cell_type": "code",
   "execution_count": 6,
   "id": "523bad57-7ff9-4fb2-890f-873ab6eb8a48",
   "metadata": {},
   "outputs": [],
   "source": [
    "net = cnn()"
   ]
  },
  {
   "cell_type": "code",
   "execution_count": 7,
   "id": "d7be14a2-f043-4142-a949-d34f86349cd7",
   "metadata": {},
   "outputs": [
    {
     "name": "stdout",
     "output_type": "stream",
     "text": [
      "cuda\n"
     ]
    }
   ],
   "source": [
    "device = torch.device(\"cuda\" if torch.cuda.is_available() else \"cpu\")\n",
    "print(device)"
   ]
  },
  {
   "cell_type": "code",
   "execution_count": 8,
   "id": "39e6a36d-d13a-45e6-8154-9f3ea45ee439",
   "metadata": {},
   "outputs": [
    {
     "data": {
      "text/plain": [
       "cnn(\n",
       "  (mxpul): MaxPool2d(kernel_size=(3, 3), stride=3, padding=0, dilation=1, ceil_mode=False)\n",
       "  (convlay0): Conv2d(3, 32, kernel_size=(3, 3), stride=(1, 1))\n",
       "  (convlay1): Conv2d(32, 32, kernel_size=(3, 3), stride=(1, 1))\n",
       "  (convlay2): Conv2d(32, 64, kernel_size=(3, 3), stride=(1, 1))\n",
       "  (linlay0): Linear(in_features=4096, out_features=1000, bias=True)\n",
       "  (linlay1): Linear(in_features=1000, out_features=100, bias=True)\n",
       "  (linlay2): Linear(in_features=100, out_features=10, bias=True)\n",
       ")"
      ]
     },
     "execution_count": 8,
     "metadata": {},
     "output_type": "execute_result"
    }
   ],
   "source": [
    "net.to(device)"
   ]
  },
  {
   "cell_type": "code",
   "execution_count": 9,
   "id": "8f519e4e-768a-43d7-b90a-69f8544f14e4",
   "metadata": {},
   "outputs": [],
   "source": [
    "optimizer = torch.optim.SGD(net.parameters(), lr=0.01, momentum = 0.9)"
   ]
  },
  {
   "cell_type": "code",
   "execution_count": 10,
   "id": "8863284c-ed31-4d3b-9ed0-892944717047",
   "metadata": {},
   "outputs": [
    {
     "name": "stdout",
     "output_type": "stream",
     "text": [
      "50000\n"
     ]
    }
   ],
   "source": [
    "criterion = torch.nn.CrossEntropyLoss().to(device)\n",
    "print(len(trainldr.dataset))"
   ]
  },
  {
   "cell_type": "code",
   "execution_count": 11,
   "id": "fed9b8e2-af91-4732-be5d-5d9147102591",
   "metadata": {},
   "outputs": [
    {
     "name": "stdout",
     "output_type": "stream",
     "text": [
      "number epoch: 1 \t epoch execution time: 4.275771617889404 \t  mean_loss: 0.023024555295705795\n",
      "number epoch: 2 \t epoch execution time: 4.203607559204102 \t  mean_loss: 0.023015407845377922\n",
      "number epoch: 3 \t epoch execution time: 4.12800407409668 \t  mean_loss: 0.022471321746706963\n",
      "number epoch: 4 \t epoch execution time: 4.519702434539795 \t  mean_loss: 0.021697569638490677\n",
      "number epoch: 5 \t epoch execution time: 4.802273511886597 \t  mean_loss: 0.021450934931635857\n",
      "number epoch: 6 \t epoch execution time: 5.7396485805511475 \t  mean_loss: 0.021229254081845284\n",
      "number epoch: 7 \t epoch execution time: 5.972577333450317 \t  mean_loss: 0.02093009650707245\n",
      "number epoch: 8 \t epoch execution time: 5.799333095550537 \t  mean_loss: 0.020772883668541908\n",
      "number epoch: 9 \t epoch execution time: 6.098953723907471 \t  mean_loss: 0.020583802834153175\n",
      "number epoch: 10 \t epoch execution time: 6.0931079387664795 \t  mean_loss: 0.020372958853840828\n",
      "number epoch: 11 \t epoch execution time: 5.940214395523071 \t  mean_loss: 0.020230431109666824\n",
      "number epoch: 12 \t epoch execution time: 5.983321189880371 \t  mean_loss: 0.020055783912539482\n",
      "number epoch: 13 \t epoch execution time: 7.138253211975098 \t  mean_loss: 0.019926020875573158\n",
      "number epoch: 14 \t epoch execution time: 6.739731550216675 \t  mean_loss: 0.01984431780874729\n",
      "number epoch: 15 \t epoch execution time: 5.743451833724976 \t  mean_loss: 0.019699256867170334\n",
      "number epoch: 16 \t epoch execution time: 4.385010004043579 \t  mean_loss: 0.019573058933019638\n",
      "number epoch: 17 \t epoch execution time: 4.483731031417847 \t  mean_loss: 0.01946665346622467\n",
      "number epoch: 18 \t epoch execution time: 4.428154230117798 \t  mean_loss: 0.01932184211909771\n",
      "number epoch: 19 \t epoch execution time: 4.457456827163696 \t  mean_loss: 0.019180873408913612\n",
      "number epoch: 20 \t epoch execution time: 4.704670667648315 \t  mean_loss: 0.019046518951654434\n"
     ]
    }
   ],
   "source": [
    "epochs = 20\n",
    "\n",
    "for epoch in range(epochs):\n",
    "    start_time = time.time()\n",
    "    mean_loss = 0\n",
    "    for data, labels in trainldr:\n",
    "        data, labels = Variable(data).to(device), Variable(labels).to(device)\n",
    "        \n",
    "        optimizer.zero_grad()\n",
    "        net_out = net(data)\n",
    "        loss = criterion(net_out, labels)\n",
    "        mean_loss += loss.data\n",
    "        loss.backward()\n",
    "        optimizer.step()\n",
    "    print(\"number epoch: {} \\t epoch execution time: {} \\t  mean_loss: {}\".format(\n",
    "        epoch + 1, time.time() - start_time, mean_loss / len(trainldr.dataset)))"
   ]
  },
  {
   "cell_type": "code",
   "execution_count": 12,
   "id": "56ef7545-885b-40c4-b616-dc05e759ef5e",
   "metadata": {},
   "outputs": [
    {
     "name": "stdout",
     "output_type": "stream",
     "text": [
      "mean_loss: 0.0192, Accuracy: 7279/10000 (73%)\n"
     ]
    }
   ],
   "source": [
    "test_loss = 0\n",
    "correct = 0\n",
    "for data, labels in testldr:\n",
    "    data, labels = Variable(data).to(device), Variable(labels).to(device)\n",
    "    net_out = net(data)\n",
    "    test_loss += criterion(net_out, labels).data\n",
    "    for ind, t in enumerate(net_out):\n",
    "        mxind1, mxind2 = 0, 1\n",
    "        for ind2, x in enumerate(t):\n",
    "            if t[ind2] > t[mxind1]:\n",
    "                mxind2 = mxind1\n",
    "                mxind1 = ind2\n",
    "            elif ind2 != mxind1 and t[ind2] > t[mxind2]:\n",
    "                mxind2 = ind2\n",
    "        if labels[ind] == mxind1 or labels[ind] == mxind2:\n",
    "            correct += 1\n",
    "   \n",
    "\n",
    "test_loss /= len(testldr.dataset)\n",
    "print('mean_loss: {:.4f}, Accuracy: {}/{} ({:.0f}%)'.format(\n",
    "       test_loss, correct, len(testldr.dataset),\n",
    "       100. * correct / len(testldr.dataset)))"
   ]
  },
  {
   "cell_type": "code",
   "execution_count": null,
   "id": "38010947-8397-4aea-99ee-1194bcb3d4ff",
   "metadata": {},
   "outputs": [],
   "source": []
  }
 ],
 "metadata": {
  "kernelspec": {
   "display_name": "Python 3 (ipykernel)",
   "language": "python",
   "name": "python3"
  },
  "language_info": {
   "codemirror_mode": {
    "name": "ipython",
    "version": 3
   },
   "file_extension": ".py",
   "mimetype": "text/x-python",
   "name": "python",
   "nbconvert_exporter": "python",
   "pygments_lexer": "ipython3",
   "version": "3.12.7"
  }
 },
 "nbformat": 4,
 "nbformat_minor": 5
}

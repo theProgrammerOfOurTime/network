{
 "cells": [
  {
   "cell_type": "code",
   "execution_count": 3,
   "id": "45d341a0-71c0-4811-b271-52bea286e9ae",
   "metadata": {},
   "outputs": [],
   "source": [
    "import torch\n",
    "import torch.nn as nn\n",
    "import torch.nn.functional as F\n",
    "import torchvision\n",
    "import torchvision.transforms as trans\n",
    "from torch.autograd import Variable\n",
    "import time\n",
    "import numpy as np\n",
    "from matplotlib import pyplot as plt "
   ]
  },
  {
   "cell_type": "code",
   "execution_count": 20,
   "id": "989d9991-e305-4f02-96cb-656cba2d0ef9",
   "metadata": {
    "scrolled": true
   },
   "outputs": [],
   "source": [
    "\n",
    "\n",
    "trainds = torchvision.datasets.MNIST(\n",
    "    root = './data', \n",
    "    train = True, \n",
    "    transform = trans.ToTensor(),  \n",
    "    download = True\n",
    ")\n",
    "\n",
    "testds = torchvision.datasets.MNIST(\n",
    "    root = './data', \n",
    "    train = False, \n",
    "    transform = trans.ToTensor()\n",
    ") \n",
    "\n",
    "batch_size = 60\n",
    "\n",
    "trainldr = torch.utils.data.DataLoader(\n",
    "    dataset = trainds, \n",
    "    batch_size = batch_size\n",
    ")\n",
    "\n",
    "testldr = torch.utils.data.DataLoader(\n",
    "    dataset = testds, \n",
    "    batch_size = batch_size, \n",
    ")"
   ]
  },
  {
   "cell_type": "code",
   "execution_count": 21,
   "id": "8c32a4cc-cb11-401f-86b7-cf29e2b6e440",
   "metadata": {},
   "outputs": [],
   "source": [
    "class Net(nn.Module):\n",
    "    def __init__(self):\n",
    "        super(Net, self).__init__()\n",
    "        self.layerXtoS = nn.Linear(28 * 28, 300)\n",
    "        self.layerStoM = nn.Linear(300, 10)\n",
    "        \n",
    "    def forward(self, x):\n",
    "        out = F.relu(self.layerXtoS(x))\n",
    "        out = self.layerStoM(out)\n",
    "        return F.softmax(out, dim=1)"
   ]
  },
  {
   "cell_type": "code",
   "execution_count": 22,
   "id": "fdb5b78d-6f49-4f27-acf9-7d537e06e3c2",
   "metadata": {},
   "outputs": [
    {
     "name": "stdout",
     "output_type": "stream",
     "text": [
      "Net(\n",
      "  (layerXtoS): Linear(in_features=784, out_features=300, bias=True)\n",
      "  (layerStoM): Linear(in_features=300, out_features=10, bias=True)\n",
      ")\n"
     ]
    }
   ],
   "source": [
    "net = Net()\n",
    "print(net)"
   ]
  },
  {
   "cell_type": "code",
   "execution_count": 23,
   "id": "9aecf4fd-c500-4df2-96d4-b310fe4ecd27",
   "metadata": {},
   "outputs": [],
   "source": [
    "optimizer = torch.optim.SGD(net.parameters(), lr=0.01)"
   ]
  },
  {
   "cell_type": "code",
   "execution_count": 24,
   "id": "7c9f3d69-f606-48bf-af2a-34c0d1fbd8c3",
   "metadata": {},
   "outputs": [],
   "source": [
    "criterion = nn.CrossEntropyLoss()"
   ]
  },
  {
   "cell_type": "code",
   "execution_count": 29,
   "id": "a65a4980-fc39-4431-986d-14fbdc1d171c",
   "metadata": {},
   "outputs": [
    {
     "name": "stdout",
     "output_type": "stream",
     "text": [
      "number epoch: 1 \t epoch execution time: 5.751783847808838 \t  mean_loss: 0.027180304750800133\n",
      "number epoch: 2 \t epoch execution time: 5.4484922885894775 \t  mean_loss: 0.02716067060828209\n",
      "number epoch: 3 \t epoch execution time: 5.627763748168945 \t  mean_loss: 0.027142422273755074\n",
      "number epoch: 4 \t epoch execution time: 5.506578207015991 \t  mean_loss: 0.027125341817736626\n",
      "number epoch: 5 \t epoch execution time: 5.333398342132568 \t  mean_loss: 0.02710927091538906\n",
      "number epoch: 6 \t epoch execution time: 5.422752141952515 \t  mean_loss: 0.027094079181551933\n",
      "number epoch: 7 \t epoch execution time: 5.355213403701782 \t  mean_loss: 0.027079500257968903\n",
      "number epoch: 8 \t epoch execution time: 5.262699604034424 \t  mean_loss: 0.027065319940447807\n",
      "number epoch: 9 \t epoch execution time: 5.49796724319458 \t  mean_loss: 0.027050960808992386\n",
      "number epoch: 10 \t epoch execution time: 5.151615381240845 \t  mean_loss: 0.027034465223550797\n",
      "number epoch: 11 \t epoch execution time: 5.1168646812438965 \t  mean_loss: 0.026983896270394325\n",
      "number epoch: 12 \t epoch execution time: 5.673283576965332 \t  mean_loss: 0.026598213240504265\n",
      "number epoch: 13 \t epoch execution time: 5.028078317642212 \t  mean_loss: 0.026376673951745033\n",
      "number epoch: 14 \t epoch execution time: 5.185272932052612 \t  mean_loss: 0.02626873180270195\n",
      "number epoch: 15 \t epoch execution time: 5.9461259841918945 \t  mean_loss: 0.02619684673845768\n",
      "number epoch: 16 \t epoch execution time: 5.244893789291382 \t  mean_loss: 0.02614201419055462\n",
      "number epoch: 17 \t epoch execution time: 5.80866265296936 \t  mean_loss: 0.026097601279616356\n",
      "number epoch: 18 \t epoch execution time: 5.40548038482666 \t  mean_loss: 0.02606011927127838\n",
      "number epoch: 19 \t epoch execution time: 5.478496789932251 \t  mean_loss: 0.026027781888842583\n",
      "number epoch: 20 \t epoch execution time: 5.412155866622925 \t  mean_loss: 0.025999153032898903\n"
     ]
    }
   ],
   "source": [
    "epochs = 20\n",
    "log_interval = 100\n",
    "x = np.zeros((epochs), np.uint8)\n",
    "y = np.zeros((epochs), np.float32)\n",
    "for epoch in range(epochs):\n",
    "    start_time = time.time()\n",
    "    mean_loss = 0\n",
    "    for data, labels in trainldr:\n",
    "        data, labels = Variable(data), Variable(labels)\n",
    "        data = data.view(-1, 28*28)\n",
    "        optimizer.zero_grad()\n",
    "        net_out = net(data)\n",
    "        loss = criterion(net_out, labels)\n",
    "        mean_loss += loss.data\n",
    "        loss.backward()\n",
    "        optimizer.step()\n",
    "        \n",
    "    x[epoch] = epoch\n",
    "    y[epoch] = mean_loss / len(trainldr.dataset)\n",
    "    print(\"number epoch: {} \\t epoch execution time: {} \\t  mean_loss: {}\".format(\n",
    "        epoch + 1, time.time() - start_time, y[epoch]))"
   ]
  },
  {
   "cell_type": "code",
   "execution_count": 27,
   "id": "2622e37d-a74b-4785-a95b-8dfda2c8e865",
   "metadata": {},
   "outputs": [
    {
     "data": {
      "text/plain": [
       "[<matplotlib.lines.Line2D at 0x26c972e07a0>]"
      ]
     },
     "execution_count": 27,
     "metadata": {},
     "output_type": "execute_result"
    },
    {
     "data": {
      "image/png": "[encoded data removed]",
      "text/plain": [
       "<Figure size 640x480 with 1 Axes>"
      ]
     },
     "metadata": {},
     "output_type": "display_data"
    }
   ],
   "source": [
    "plt.plot(x, y)"
   ]
  },
  {
   "cell_type": "code",
   "execution_count": 30,
   "id": "8c6f4615-e133-410a-851d-75f0ba6d2a93",
   "metadata": {},
   "outputs": [
    {
     "name": "stdout",
     "output_type": "stream",
     "text": [
      "nTest set: Average loss: 0.0260, Accuracy: 9192/10000 (92%)\n"
     ]
    }
   ],
   "source": [
    "test_loss = 0\n",
    "correct = 0\n",
    "for data, labels in testldr:\n",
    "    data, labels = Variable(data), Variable(labels)\n",
    "    data = data.view(-1, 28 * 28)\n",
    "    net_out = net(data)\n",
    "    test_loss += criterion(net_out, labels).data\n",
    "    pred = net_out.data.max(1)[1]\n",
    "    correct += pred.eq(labels.data).sum()\n",
    "\n",
    "test_loss /= len(testldr.dataset)\n",
    "print('nTest set: Average loss: {:.4f}, Accuracy: {}/{} ({:.0f}%)'.format(\n",
    "       test_loss, correct, len(testldr.dataset),\n",
    "       100. * correct / len(testldr.dataset)))"
   ]
  },
  {
   "cell_type": "code",
   "execution_count": null,
   "id": "26927ce3-ba36-4b48-a20f-46d1a950f794",
   "metadata": {},
   "outputs": [],
   "source": []
  }
 ],
 "metadata": {
  "kernelspec": {
   "display_name": "Python 3 (ipykernel)",
   "language": "python",
   "name": "python3"
  },
  "language_info": {
   "codemirror_mode": {
    "name": "ipython",
    "version": 3
   },
   "file_extension": ".py",
   "mimetype": "text/x-python",
   "name": "python",
   "nbconvert_exporter": "python",
   "pygments_lexer": "ipython3",
   "version": "3.12.7"
  }
 },
 "nbformat": 4,
 "nbformat_minor": 5
}
